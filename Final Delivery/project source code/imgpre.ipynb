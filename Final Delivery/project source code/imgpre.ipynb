import numpy as np
import pandas as pd
from pathlib import Path
import os.path
import tensorflow as tf
dir = Path('../input/ecg-image-data/ECG_Image_data/train')
filepaths = list(dir.glob(r'**/*.png'))
labels = list(map(lambda x: os.path.split(os.path.split(x)[0])[1], filepaths))
filepaths = pd.Series(filepaths, name='Filepath').astype(str)
labels = pd.Series(labels, name='Label')
dataframe = pd.concat([filepaths , labels] , axis=1)
dataframe
dataframe['Label'].value_counts()
dataframe['Label'].unique()
samples = []
for category in ['N', 'M', 'Q', 'S', 'V']:
category_slice = dataframe.query("Label == @category")
samples.append(category_slice.sample(2223, random_state=1)
dataframe_train = pd.concat(samples, axis=0).sample(frac=1.0,
random_state=1).reset_index(drop=True)
dataframe_train['Label'].value_counts()
dir = Path('../input/ecg-image-data/ECG_Image_data/train')
filepaths = list(dir.glob(r'F/*.png'))
labels = list(map(lambda x: os.path.split(os.path.split(x)[0])[1], filepaths))
filepaths = pd.Series(filepaths, name='Filepath').astype(str)
labels = pd.Series(labels, name='Label')
F = pd.concat([filepaths , labels] , axis=1)
%%time
dir = Path('../input/ecg-image-data/ECG_Image_data/test')
filepaths = list(dir.glob(r'**/*.png'))
labels = list(map(lambda x: os.path.split(os.path.split(x)[0])[1], filepaths))
filepaths = pd.Series(filepaths, name='Filepath').astype(str)
labels = pd.Series(labels, name='Label')
dataframe_test = pd.concat([filepaths , labels] , axis=1)
dataframe_test
preprocessing of code
size=64
color_mode='grayscale'
batch_size=32
train_images = train_generator.flow_from_dataframe(
dataframe=dataframe_train,
x_col='Filepath',
y_col='Label',
target_size=(size, size),
color_mode=color_mode,
class_mode='categorical',
batch_size=batch_size,
shuffle=True,
seed=42,
subset='training'
)
val_images = train_generator.flow_from_dataframe(
dataframe=dataframe_train,
x_col='Filepath',
y_col='Label',
target_size=(size, size),
color_mode=color_mode,
class_mode='categorical',
batch_size=batch_size,
shuffle=True,
seed=42,
subset='validation'
)
test_images = test_generator.flow_from_dataframe(
dataframe=dataframe_test,
x_col='Filepath',
y_col='Label',
target_size=(size, size),
color_mode=color_mode,
class_mode='categorical',
batch_size=batch_size,
shuffle=False
)
Model summary
size=64
color_mode='grayscale'
batch_size=32
train_images = train_generator.flow_from_dataframe(
dataframe=dataframe_train,
x_col='Filepath',
y_col='Label',
target_size=(size, size),
color_mode=color_mode,
class_mode='categorical',
batch_size=batch_size,
shuffle=True,
seed=42,
subset='training'
)
val_images = train_generator.flow_from_dataframe(
dataframe=dataframe_train,
x_col='Filepath',
y_col='Label',
target_size=(size, size),
color_mode=color_mode,
class_mode='categorical',
batch_size=batch_size,
shuffle=True,
seed=42,
subset='validation'
)
test_images = test_generator.flow_from_dataframe(
dataframe=dataframe_test,
x_col='Filepath',
y_col='Label',
target_size=(size, size),
color_mode=color_mode,
class_mode='categorical',
batch_size=batch_size,
shuffle=False
)
import keras
checkpoint = keras.callbacks.ModelCheckpoint(
filepath='best_model.h5',
save_weights_only=False,
monitor='val_accuracy',
mode='max',
save_best_only=True,
verbose=1)
model.compile(
optimizer='adam',
loss='categorical_crossentropy',
metrics=['accuracy']
)
import matplotlib.pyplot as plt
plt.plot(result.history['loss'])
plt.plot(result.history['val_loss'])
plt.legend(['Training', 'Validation'])
plt.title('Training and Validation losses')
plt.xlabel('epoch')